{
  "cells": [
    {
      "cell_type": "markdown",
      "metadata": {
        "id": "view-in-github",
        "colab_type": "text"
      },
      "source": [
        "<a href=\"https://colab.research.google.com/github/sujal029/Restaurant-EDA-Project/blob/main/Copy_of_Welcome_to_Colaboratory.ipynb\" target=\"_parent\"><img src=\"https://colab.research.google.com/assets/colab-badge.svg\" alt=\"Open In Colab\"/></a>"
      ]
    },
    {
      "cell_type": "markdown",
      "source": [
        "# Task 1: Restaurant Ratings\n",
        "    A. Analyze the distribution of aggregate ratings and determine the most common rating range.\n",
        "    B. Calculate the average number of votes received by restaurants.\n",
        "    "
      ],
      "metadata": {
        "id": "sNvRQw47TxvM"
      }
    },
    {
      "cell_type": "code",
      "execution_count": null,
      "metadata": {
        "id": "zwFnJsE6vjf8"
      },
      "outputs": [],
      "source": [
        "import pandas as pd\n",
        "from collections import Counter\n",
        "import matplotlib.pyplot as plt\n",
        "import folium\n",
        "from folium.plugins import MarkerCluster\n",
        "from sklearn.cluster import DBSCAN"
      ]
    },
    {
      "cell_type": "code",
      "source": [
        "df = pd.read_csv(\"/content/Dataset.csv\")\n",
        "\n",
        "# Create a histogram to visualize the distribution of aggregate ratings\n",
        "plt.figure(figsize=(8, 6))\n",
        "plt.hist(df['Aggregate rating'], bins=10, edgecolor='k')\n",
        "plt.xlabel('Aggregate Rating')\n",
        "plt.ylabel('Number of Restaurants')\n",
        "plt.title('Distribution of Aggregate Ratings')\n",
        "plt.show()\n",
        "\n",
        "# Determine the most common rating range\n",
        "most_common_rating_range = df['Aggregate rating'].mode()\n",
        "\n",
        "print(\"Most Common Rating Range:\", most_common_rating_range.values[0])\n"
      ],
      "metadata": {
        "colab": {
          "base_uri": "https://localhost:8080/",
          "height": 581
        },
        "id": "HJm5VxtdTmeN",
        "outputId": "f7f3a107-ec83-4d0d-a269-99d30c30a1d8"
      },
      "execution_count": null,
      "outputs": [
        {
          "output_type": "display_data",
          "data": {
            "text/plain": [
              "<Figure size 800x600 with 1 Axes>"
            ],
            "image/png": "[encoded data removed]"
          },
          "metadata": {}
        },
        {
          "output_type": "stream",
          "name": "stdout",
          "text": [
            "Most Common Rating Range: 0.0\n"
          ]
        }
      ]
    },
    {
      "cell_type": "code",
      "source": [
        "# Calculate the average number of votes received by restaurants\n",
        "avg_votes = df['Votes'].mean()\n",
        "print(\"Average Number of Votes Received by Restaurants:\", round(avg_votes, 2))\n"
      ],
      "metadata": {
        "colab": {
          "base_uri": "https://localhost:8080/"
        },
        "id": "urHKC3wqUXJa",
        "outputId": "a1ec9e47-7bd5-47de-cedd-a41651f4edde"
      },
      "execution_count": null,
      "outputs": [
        {
          "output_type": "stream",
          "name": "stdout",
          "text": [
            "Average Number of Votes Received by Restaurants: 156.91\n"
          ]
        }
      ]
    },
    {
      "cell_type": "markdown",
      "source": [
        "# Task 2: Cuisine Combination\n",
        "    A. Identify the most common combinations of cuisines in the dataset.\n",
        "    B. Determine if certain cuisine combinations tend to have higher ratings."
      ],
      "metadata": {
        "id": "GyuTqpt5VtCz"
      }
    },
    {
      "cell_type": "code",
      "source": [
        "# Drop rows with missing or empty 'Cuisines' values\n",
        "df.dropna(subset=['Cuisines'], inplace=True)\n",
        "\n",
        "# Split the 'Cuisines' column to get individual cuisines\n",
        "cuisine_combinations = df['Cuisines'].str.split(', ')\n",
        "\n",
        "# Flatten the list of cuisine combinations\n",
        "all_cuisines = [cuisine for sublist in cuisine_combinations for cuisine in sublist]\n",
        "\n",
        "# Calculate the most common cuisine combinations\n",
        "common_cuisine_combinations = pd.Series(all_cuisines).value_counts()\n",
        "\n",
        "# Display the most common combinations\n",
        "print(\"Most Common Combinations of Cuisines:\")\n",
        "print(common_cuisine_combinations.head(10))  # You can adjust the number to see more or fewer combinations\n",
        "\n"
      ],
      "metadata": {
        "colab": {
          "base_uri": "https://localhost:8080/"
        },
        "id": "tTSB6LFZUkze",
        "outputId": "e277e486-f6cc-4097-f4b1-252e51b63055"
      },
      "execution_count": null,
      "outputs": [
        {
          "output_type": "stream",
          "name": "stdout",
          "text": [
            "Most Common Combinations of Cuisines:\n",
            "North Indian    3960\n",
            "Chinese         2735\n",
            "Fast Food       1986\n",
            "Mughlai          995\n",
            "Italian          764\n",
            "Bakery           745\n",
            "Continental      736\n",
            "Cafe             703\n",
            "Desserts         653\n",
            "South Indian     636\n",
            "Name: count, dtype: int64\n"
          ]
        }
      ]
    },
    {
      "cell_type": "code",
      "source": [
        "# Calculate the average rating for each cuisine combination\n",
        "average_ratings = df.groupby('Cuisines')['Aggregate rating'].mean()\n",
        "\n",
        "# Sort the combinations by average rating in descending order\n",
        "sorted_combinations = average_ratings.sort_values(ascending=False)\n",
        "\n",
        "# Display the top-rated cuisine combinations\n",
        "print(\"Top-Rated Cuisine Combinations:\")\n",
        "print(sorted_combinations.head(10))\n"
      ],
      "metadata": {
        "colab": {
          "base_uri": "https://localhost:8080/"
        },
        "id": "2pUF-fa6Unbt",
        "outputId": "acdbd2b4-3418-420e-8814-ce291e0e72e7"
      },
      "execution_count": null,
      "outputs": [
        {
          "output_type": "stream",
          "name": "stdout",
          "text": [
            "Top-Rated Cuisine Combinations:\n",
            "Cuisines\n",
            "Italian, Deli               4.9\n",
            "Hawaiian, Seafood           4.9\n",
            "American, Sandwich, Tea     4.9\n",
            "Continental, Indian         4.9\n",
            "European, Asian, Indian     4.9\n",
            "European, Contemporary      4.9\n",
            "European, German            4.9\n",
            "BBQ, Breakfast, Southern    4.9\n",
            "American, Coffee and Tea    4.9\n",
            "Sunda, Indonesian           4.9\n",
            "Name: Aggregate rating, dtype: float64\n"
          ]
        }
      ]
    },
    {
      "cell_type": "markdown",
      "source": [
        "# Task 3: Geographic Analysis\n",
        "    A. Plot the locations of restaurants on a map using longitude and latitude coordinates.\n",
        "    B. Identify any patterns or clusters of restaurants in specific areas.\n",
        "    "
      ],
      "metadata": {
        "id": "DX6rDvWhU6-8"
      }
    },
    {
      "cell_type": "code",
      "source": [
        "\n",
        "# Create a map centered at a specific location (e.g., city center)\n",
        "m = folium.Map(location=[72.829976, 19.12663], zoom_start=2)\n",
        "\n",
        "# Create a marker cluster group\n",
        "marker_cluster = MarkerCluster().add_to(m)\n",
        "\n",
        "# Add markers for restaurant locations to the cluster group\n",
        "for index, row in df.iterrows():\n",
        "    folium.Marker(\n",
        "        location=[row['Latitude'], row['Longitude']],\n",
        "        popup=row['Restaurant Name'],\n",
        "    ).add_to(marker_cluster)\n",
        "\n",
        "# Display the map\n",
        "m.save('restaurant_map.html')  # Save the map as an HTML file\n",
        "\n"
      ],
      "metadata": {
        "id": "we4cAt9QU9wy"
      },
      "execution_count": null,
      "outputs": []
    },
    {
      "cell_type": "code",
      "source": [
        "\n",
        "# Extract latitude and longitude coordinates\n",
        "X = df[['Latitude', 'Longitude']]\n",
        "\n",
        "# Apply DBSCAN clustering\n",
        "eps = 0.1  # Adjust the epsilon value based on your data\n",
        "min_samples = 5  # Adjust the minimum number of samples based on your data\n",
        "db = DBSCAN(eps=eps, min_samples=min_samples).fit(X)\n",
        "\n",
        "# Add cluster labels to the DataFrame\n",
        "df['Cluster'] = db.labels_\n",
        "\n",
        "# Create a map centered at a specific location (e.g., city center)\n",
        "m = folium.Map(location=[72.829976, 19.12663], zoom_start=2)  # Replace with actual coordinates\n",
        "\n",
        "# Create a marker cluster group\n",
        "marker_cluster = MarkerCluster().add_to(m)\n",
        "\n",
        "# Add markers for restaurant locations with cluster labels\n",
        "for index, row in df.iterrows():\n",
        "    if row['Cluster'] != -1:  # Exclude unclustered data points (-1 label)\n",
        "        folium.Marker(\n",
        "            location=[row['Latitude'], row['Longitude']],\n",
        "            popup=f\"Restaurant: {row['Restaurant Name']}, Cluster: {row['Cluster']}\",\n",
        "        ).add_to(marker_cluster)\n",
        "\n",
        "# Display the map\n",
        "m.save('clustered_restaurant_map.html')  # Save the map as an HTML file\n",
        "\n"
      ],
      "metadata": {
        "id": "JTg8trGoVBYV"
      },
      "execution_count": null,
      "outputs": []
    },
    {
      "cell_type": "markdown",
      "source": [
        "# Task 4: Restaurant Chains\n",
        "    A. Identify if there are any restaurant chains present in the dataset.\n",
        "    B. Analyze the ratings and popularity of different restaurant chains."
      ],
      "metadata": {
        "id": "1fTI-CTYVLB6"
      }
    },
    {
      "cell_type": "code",
      "source": [
        "# Group restaurants by name and count the number of locations\n",
        "chain_counts = df['Restaurant Name'].value_counts()\n",
        "\n",
        "# Filter chains by specifying a minimum number of locations\n",
        "min_chain_locations = 2  # Adjust as needed\n",
        "restaurant_chains = chain_counts[chain_counts >= min_chain_locations].index.tolist()\n",
        "\n",
        "# Print the list of restaurant chains\n",
        "print(\"Restaurant Chains:\")\n",
        "print(restaurant_chains)\n"
      ],
      "metadata": {
        "colab": {
          "base_uri": "https://localhost:8080/"
        },
        "id": "BA-XOTxMVQiu",
        "outputId": "307c5172-3d9a-4151-ddab-361e12abb798"
      },
      "execution_count": null,
      "outputs": [
        {
          "output_type": "stream",
          "name": "stdout",
          "text": [
            "Restaurant Chains:\n",
            "['Cafe Coffee Day', \"Domino's Pizza\", 'Subway', 'Green Chick Chop', \"McDonald's\", 'Keventers', 'Pizza Hut', 'Giani', 'Baskin Robbins', 'Barbeque Nation', \"Giani's\", 'Barista', \"Dunkin' Donuts\", 'Pind Balluchi', 'Costa Coffee', 'Wah Ji Wah', 'Twenty Four Seven', 'Sagar Ratna', 'Pizza Hut Delivery', 'Starbucks', 'KFC', 'Republic of Chicken', 'Chaayos', \"Haldiram's\", 'Burger King', 'Shree Rathnam', 'Aggarwal Sweets', 'Frontier', 'Bikanervala', 'Moti Mahal Delux', 'Bikaner Sweets', 'Behrouz Biryani', \"Karim's\", '34, Chowringhee Lane', 'Chicago Pizza', 'Apni Rasoi', 'Burger Point', 'Wow! Momo', 'Madras Cafe', 'Gopala', \"Nirula's Ice Cream\", 'Sardar A Pure Meat Shop', 'Yo! China', 'Shama Chicken Corner', \"Berco's\", 'Cocoberry', 'Ovenstory Pizza', 'Angels in my Kitchen', 'Kebab Xpress', 'Faasos', 'Chowringhee', 'Punjabi Tadka', 'Punjabi Chaap Corner', 'Khan Chacha', \"Tibb's Frankie\", 'RollsKing', 'Slice of Italy', 'BTW', \"Chawla's�_\", 'Mocha', 'The Yellow Chilli', 'Chinese Hut', 'Tpot', 'Dolce Gelato', 'China Town', 'Nazeer Foods', 'Farzi Cafe', 'Bikaner Sweets & Restaurant', 'Wrapss', 'Sanjha Chulha', 'The Beer Cafe', 'Mainland China', 'Goli Vada Pav No. 1', 'The Diet Kitchen', 'Kings Kulfi', 'Al Bake', 'Moti Mahal Delux Tandoori Trail', 'Mr. Sub', 'Southy', 'Punjabi Rasoi', 'Biryani Blues', 'Pudding & Pie', \"TGI Friday's\", 'Cafe Coffee Day - The Lounge', 'Texas Roadhouse', 'Shree Bikaner Misthan Bhandar', \"Nando's\", 'The Chinese Hut', 'Pita Pit', 'Instapizza', 'Aggarwal Sweet India', 'Punjab Grill', 'Kettle & Kegs', \"Flirty Momo's\", 'Swagath', 'Red Chilli', \"Chili's\", 'Sandoz', 'SGF - Spice Grill Flame', 'Aggarwal Sweet Corner', 'Kake Da Hotel', \"Nathu's Sweets\", 'Chinese Corner', \"L'Opera\", 'The Midnight Heroes', 'Nukkadwala', 'Mad Over Donuts', 'Viva Hyderabad', 'Happy Hakka', 'Captain Grub', 'Cake Point', 'Da Pizza Corner', \"Nirula's\", 'Punjabi Zaika', 'Hong Kong Express', 'Puri Bakers', \"Colonel's Kababz\", 'Public Cafe', 'Kathi Junction', 'Bawarchi', 'Open Oven', 'GoGourmet', 'Momo-Cha', 'Super Cake Shop', 'Burger Xpress', \"Jamie's Italian\", 'Mx Corn', 'Pakwan', \"Kwality Wall's Swirl's\", 'Gelato Vinto', 'Tea Villa Cafe', 'Deez Biryani & Kebabs', \"AB's - Absolute Barbecues\", \"Applebee's\", 'Big Chill', 'Hot Pot', \"Nizam's Kathi Kabab\", 'Bun Intended', \"DCK- Dana Choga's Kitchen\", \"Qureshi's Kabab Corner\", 'South Indian Hut', 'Jungle Jamboree', 'Aapki Rasoi', 'Gola Sizzlers', 'Chai Garam', 'The Kathis', 'Pirates of Grill', 'Zaika', 'Nite Bites', 'Rainbows', 'Chaska', 'The Coffee Bean & Tea Leaf', 'Meatwale.com', \"Chawla's 2\", 'Sugar & Spice - Le Marche', 'FreshMenu', 'Chai Point', \"Punjabi's Veg Grill\", 'Wok On Fire', 'True Blue', 'Bikkgane Biryani', 'Big Yellow Door', 'Riyaz Biryani Corner', 'Movenpick', 'Food Plaza', 'Zaffran', 'Captain Bill$ Deliverz', 'Mitra Da Dhaba', 'Cafe Delhi Heights', 'Burger Singh', 'Goosebumps', 'Flying Cakes', 'Roll Club', 'HuHot Mongolian Grill', 'Naivedyam', 'Sushiya Express', 'Amici Cafe', 'BarShala', \"KB's Kulfi & Icecream\", 'Taco Bell', 'Tikka Town', 'New Madras Cafe', 'Veg Ex', 'Doughlicious', 'Food Scouts', 'Baked Buns', 'Bharat Sweets', 'Om Sweets & Snacks', 'Talaga Sampireun', 'Habibi Express', 'Radha Swami Shudh Vaishno Dhaba', 'Krispy Kreme', 'Saravana Bhavan', 'Tikka Junction', 'Jaiveer Naan & Chaap', 'D�_ner Grill', 'SodaBottleOpenerWala', 'Bunty Dhaba', 'Mamagoto', 'Not Just Paranthas', 'Onesta', 'Indian Coffee House', '221 B Baker Street', \"Chawla's Chic Inn\", 'Shawarma Wala', 'Pizza Station', 'The Golden Dragon', 'Tea Halt', 'The Chai Story', 'Rollmaal', 'Muradabadi Shahi Biryani & Chicken Corner', 'Speedy Chow', 'Amul Ice-Cream Parlour', 'Foodies', 'Urban Punjab', 'Punjabi Dhaba', 'The Chaiwalas', 'Defence Bakery', 'Just Vada Pav', 'Punjabi Pakwaan', 'Bake N Shake', 'Aggarwal Sweet Centre', 'Joost Juice Bar', 'Shahenshah', 'Aggarwal Bikaner Sweets', \"Chawla's Tandoori Junction\", 'Biryani By Kilo', 'Desi Vibes', 'Hira Sweets', 'Bats On Delivery', 'Breaktym', 'Health Buzzz', 'Havmor Ice Cream', 'Kerala Cafe', 'Aggarwal Sweets India', 'Zizo', 'Palmshore', 'Chinese Food', \"The Fisherman's Wharf\", \"QD's Restaurant\", 'Side Wok', 'Niti Shake & Ice Cream Hub', 'Hasty Tasty', 'Street Foods by Punjab Grill', 'Cafe Turtle', 'Polka Pastry & Snack Bar', \"Hangchuaa's Chinese Food Corner\", 'Pizza Hub', 'Midnight Hunger Hub', \"Kanwarji's\", 'Chimney', 'Hard Rock Cafe', 'Cakes & Bakes', 'Changezi Chicken', 'Dilli Darbar', \"La Pino'z Pizza\", 'Punjab Restaurant', 'Wah G Wah', 'Finger Licious', 'Sri Balaji', 'Gazebo', 'Chaophraya', 'Little Chef', 'Chinese Food Corner', 'Foodhall', 'Mr. Brown', 'Manohar Dairy And Restaurant', 'Matchbox', 'Smoke House Deli', 'Rajdhani Restaurant', 'Momos House', 'Delight Express', 'Miam', 'The Chatter House', 'Dunkin Donuts', 'Grillz', 'China Hut', 'Made In Punjab', 'Baking Bad', 'Kake Di Hatti', 'First Eat', 'Le Chef', 'Out Of The Box', 'Snack Shack', 'New Zaika', 'Burgrill', 'All About Food', 'Jahangeer Foods', 'Biryani Art', 'Gupta Chat Corner', 'South Cafe', 'ZASTY', \"Wendy's\", 'Imperfecto', 'Coldpress Company', 'Firangi Bake', 'Ghar Ka Khana', 'Natural Ice Cream', 'Biryani Vice', 'Green Restaurant', \"Chawla's\", 'Moon Bite', 'Chilli Tadka', \"WTF - World's Tastiest Food\", 'Riyaz Chicken Corner', 'Wai Yu Mun Ching', 'Sadda Adda', 'The Flying Saucer Cafe', '10 Downing Street', 'Raj Restaurant', 'EDC Mania', 'China Garden', 'Khalsa Veg Corner', 'Haldiram Bhujiawala', 'Drifters Cafe', 'Kesarwa Bakez', 'Litti.In', 'Flavours', 'Chinese Fast Food', '4700BC Popcorn', 'Bake Walkers', 'Kumar Pastry Shop', 'Chai Thela', 'Mithaas', 'Mithaas Sweets', 'La Americana', 'Papa Veg Chinese Food', 'Sonya Bakery Cafe', 'The Roll Van', 'Brown Town', \"AB's Absolute Barbecues\", 'Moksha', 'Pebble Street', 'SpiceKlub', 'The Barbeque Company', 'The Mad Teapot/The Wishing Chair', 'Mr. Momo', 'Garam Dharam', 'Basil Tree', 'The Breakfast Club', 'Cinnabon', 'Kati Roll Cottage', 'Naturals Ice Cream', 'Cafe Coffee Day The Square', 'Singz', 'Dosa Plaza', 'Whatslife.in', 'Paramjeet Machi Wala', 'Chutneez Restaurant Lounge & Bar', 'Bhoj Restaurant', 'The Junkyard Cafe', 'Bakers Oven', 'JSB Evergreen Snack & Sweets', 'Kebab Gali', \"Kamal's\", 'Mogambo Kitchen', 'Bhappe Di Hatti', 'Frozen Factory', 'Kake Da Dhaba', 'Angeethi', 'Mysore Cafe', 'Caffe 9', 'Bombay Brasserie', 'Truffles', 'Gung The Palace', 'Lasha Chinese Food', 'Kanha Sweets', 'Pasta Hub', 'Teddy Boy', 'Burger Joint', 'Habibi', 'Nooba', 'Pizza Yum', 'The Cake Shop', 'Black Pepper', 'Hot Stuff', 'Paradise', 'Vadapav Junction', 'Muffins', 'Punjabi By Nature', 'Tandoori Junction', 'Sbarro', 'Shake Square', 'Yomo-Your Only Momo Outlet', 'Dilli Light', 'Theos', 'Aap Ki Khatir', 'Smaaash', 'Nawabi Mughlai Zaika', 'Wild Chef House', 'Delhi Club House', 'Spanish Delights', \"Carl's Jr.\", 'Relax Xpress', 'The Blue Tandoor', 'Caffe Tonino', 'MR.D - Deliciousness Delivered', \"Mom's Kitchen\", 'Americana Kitchen and Bar', 'Hot Cherries', 'Aggarwal Sweets Centre', 'BonJuz', 'New Punjabi Khana', 'Metro Dhaba', 'Shree Durga Dosa', 'bu��no', 'Bikaner Sweets & Bakers', \"Zooby's Kitchen\", 'Beijing Street', 'Sagar Dhaba', 'Biryaniwala', 'The Culinary Pitaara', 'Eggers Madhouse', 'Gupta Ji Ka Dhaba', \"Ammu's South Indian Restaurant\", 'Hwealthcafe', \"Hurry's Paratha\", 'Chinese Hot', 'Sumo Sushi', 'Dilli BC', \"Mother's Kitchen\", 'Pizza Day', 'Fresh Meat CO', 'Whipped', 'Green Valley Chinese Food', 'Kulcha King', 'South Indian Corner', 'Twisted Tacos', 'Au Bon Pain', 'Nutritious Nation', 'Bikano Chat Cafe', 'Da Pizza Zone', 'Rolling Beans', 'Aureo Dine & Bake House', 'Yo! Dimsum', 'Sandwich King', 'Cafe Diva', 'Essen Foods', 'Caff�� La Poya', 'Papa Buns', 'Dilli Rasoi', 'Tandoori Tadka', 'Yumm Biryani', 'Wood Box Cafe', 'Vaishno Rasoi', 'Weird Time Food', 'Night Food Xprs', 'Hunger Strike', 'The Belgian Fries Company', 'The Square Meal', 'Drool Waffles', 'Evergreen Sweets', 'Pasta Hut', 'Twigly', 'Pitstop', 'Oh Buoy', 'Stop My Starvation', 'Night Munchers', 'Big Biryani', \"Hunger's Hub\", 'Pho King Awesome', 'The Big Scoop', 'Big Wong XL', 'The Pint Room', 'Hungry - I', \"Kamboj's\", 'Asian Haus', \"Let's Noodle\", 'The Dosa King', 'Druk', 'Dezertfox', 'Wagh Bakri Tea Lounge', 'Prince Chaat Corner', 'Laxmi Ice Cream', 'Biryani Bot', 'The Tandoor', 'Red Mango', 'Adyar Ananda Bhavan', 'Country Curries', 'Food Express', 'Invitation', \"Baker's Stop\", 'Ashok Meat Wala', 'Rasoi', 'Oh! Calcutta', \"Soya Bite's\", 'Garam Masala', 'Juice Lounge', 'Bake Club', 'Fluffles - The Fluffy Waffle Co.', 'Gulab', 'Reena Restaurant', 'Anand Sweets', 'Crudo Juicery', 'Green Chilli', \"Cafe Buddy's\", 'Royale Bakers', 'Roti Aur Boti', 'Roll Corner', \"Faaso's\", 'Mirchievous', 'Raasta', 'Burger Hut', 'Suruchi', 'Go Kylin', 'The Chocolate Room', 'Blue Tokai Coffee Roasters', 'Konetto Pizza', 'Kitchen King', 'Chao Cart', 'Choco Kraft', '34 Parkstreet Lane', 'Olive Bistro', 'Maggi Point', 'Grover Sweets', 'Raj Rasoi', 'The Taste', 'Flavours Kitchen', 'Chawnsan Chef', 'Chinese King', \"Oberoi's\", 'Perfect Bake', 'Pizza King', 'Tipu Sultan', 'Koyla Kebab', 'Circus', 'Ramesh Vaishno Dhaba', 'The Pirates Of China Town', 'Pastry Palace', 'Hungry Minister', 'Fit Bites', 'Flavors Of London', 'Crust N Cakes', \"Chawla's Tandoori Xpress\", 'Cake 24x7', 'Tamura', 'Baker Street', 'Bikaner Misthan Bhandar', 'Desi Tadka', 'The Kitchen', 'Hot & Spicy', 'Chennai Express', 'New Town Cafe - Park Plaza', 'Singh Chicken', 'Zaaika Junction', 'Bakingo', 'Ashoka Restaurant', 'Bikaner Rasoi', 'China Hot Pot', \"Punjabee's Darbar\", 'Dev Food', 'Ram Chinese Food', 'Hawkers', 'Shamji Sweets', 'Dabba Meat', 'Jyoti Sweets', 'Khana Khazana', 'Delhi Chaat Bhandar', 'Arabian Delites', 'Cafe Brown Sugar', 'Pandey Chinese Hut', 'Italiano', 'Crazy Noodles', 'Sibang Bakery', 'Jain Restaurant', 'Bon Bon Pastry Shop', 'The Creamery', 'A Piece of Paris', 'Urban Dhaba', 'Kolkata Kathi Roll', 'Madras Coffee House', 'Otik Cake Shop', \"Gullu's\", 'Chauhan Hotel', 'Los Agaves', 'Khidmat', 'Snack Junction', 'Snacks Point', 'Big Dragon', 'Vaishno Punjabi Dhaba', 'Kaveri Restaurant And Caterers', 'Cones & Curries', 'Manohar Bikkaneri', \"Sethi's The Cake Shop\", 'Mitthu Tikki Wala', 'Paapi Paet', 'Aggarwal Sweets & Restaurant', 'Madras Dosa & Chinese', 'Balaji Dhaba', 'Mahi Rasoi', 'Bijoli Grill', 'Underdoggs Sports Bar & Grill', 'Fish Streat', 'Chalte Firte Momos & Special Foods', \"Bhimsain's Bengali Sweet House\", 'Munch Nation', 'The Cafe', 'Hornbill', 'Chokola', 'Town Hall', 'Brijwasi Restaurant', 'The Chef', 'Food Factory', 'The Crab Shack', 'Adarsh Kulfi', 'U Like', 'Arabian Nites', 'Patiala Shahi', \"Jack Po!tato's\", 'Punjabi Chicken', 'Chai Mantra', 'Organic Express', 'Chawlas 2', 'South Indian Cafe', 'Tea Trails', \"Senorita's\", 'Special Chicken Biryani', 'Comesum', 'Moti Mahal Delux- Legendary Culinary', 'Hyderabad House', 'Night Food Delivery', \"Mr. Baker's\", 'Aggarwal Bikaneri Sweets', 'Cake Palace', 'Hot Joint Fast Food', 'Ichiban', 'Chawla Family Restaurant', 'Green Leaf', 'Effingut Brewerkz', 'Ankur Family Restaurant', 'Aggarwal Sweet & Bakers', 'Street Cafe', 'Oberoi Biryani', 'Yadav Sweets', 'Shyam Sweets', 'Rajshree', 'Fast Trax', \"Aggarwal's Sweets Paradise\", 'Lazeez Restaurant', 'Madhuvan Chinese Fast Food', 'Rasoi - The Indian Zaika', 'Super Snacks', 'Chick-fil-A', 'Wheelyz', 'Cook Du Kdu', 'Alaturka', 'Big Fat Sandwich', 'The National', 'Bobby Tikki Wala', 'Syall Kotian Da Dhaba', 'Clever Fox Cafe', 'Murliwala Bakers', 'Garota de Ipanema', \"Joey's Pizza\", 'Say Cheese', 'Coco Bambu', 'Timboo Cafe', 'OCD - Online Cake Delivery', 'Puja Sandwich House', 'Little Italy', 'Barbeque Ville', 'D�_vero��lu', 'The Bake Studio', 'Spice Route', 'Nanking', 'Silantro Fil-Mex', 'Din Tai Fung', 'Fresh n Refresh', 'Garden Hut', 'Mellow Mushroom', \"Harry's Bar + Cafe\", 'Spooky Sky', \"VadaPav 'n' Frankie\", 'Anjlika Pastry Shop', \"Chili's Grill & Bar\", 'Bikaner Kesarvala', 'Amritsari Dhaba', \"Shawarma King's\", 'San Carlo', '6 Pack Momos', 'The Mirch Masala', 'Shankar Fast Food', \"Nagpal's\", 'Metro Fast Food', 'Bengal Sweet Corner', 'D Food', \"Rhinehart's Oyster Bar\", 'High On Burgers', 'Liquid', 'Gymkhana', 'Dishoom', 'Taste of India', 'Granite City Food & Brewery', 'Perch Wine & Coffee Bar', 'The Artful Baker', 'The Big Chill Cakery', 'Chaap Point', 'Magic Masala', 'Pizza Diet', 'Amar Bakery', 'Fabulous Cake Bites', 'Standard Sweets', 'Shalimar Vyanjan', 'The Great Kabab Factory', 'Khan Chicken Biryani', 'Golden Bakery', 'Royal Spice', 'Midnight Hunger', 'Baba Chicken Ludhiana Wale', 'The China Town', 'Anupam Sweets', 'Beliram Degchiwala', 'Kolkata Biryani House', \"Fat Lulu's\", 'Kolkata Hot Kathi Roll', 'Dana Pani', \"Bikaner's\", 'Halki Aanch', 'Pandit Ji Ki Apni Rasoi', 'Al Zaika', 'Shri Ram Restaurant', 'Hotel Malabar', 'Biryani Express', 'Imly', 'Nazeer Delicacies', 'Embassy', 'Delhi Biryani Hut', 'Qureshi Kabab Corner', 'KC Bakers', 'Zaika Kathi Rolls', 'The Night Owl', 'The Cheesecake Factory', 'New Kadimi', 'Ceviche Tapas Bar & Restaurant']\n"
          ]
        }
      ]
    },
    {
      "cell_type": "code",
      "source": [
        "#Top 10 restaurant chains who has highest number of chains\n",
        "\n",
        "# Filter for restaurants that appear more than once (potential chains)\n",
        "restaurant_chains = chain_counts[chain_counts > 1]\n",
        "\n",
        "if not restaurant_chains.empty:\n",
        "    print(\"Restaurant Chains Identified:\")\n",
        "    print(restaurant_chains.head(10))\n",
        "else:\n",
        "    print(\"No Restaurant Chains Identified in the Dataset.\")\n"
      ],
      "metadata": {
        "colab": {
          "base_uri": "https://localhost:8080/"
        },
        "id": "ZtSuDxVIVUWo",
        "outputId": "dc3327ef-931f-43f5-fd19-46c479259c7c"
      },
      "execution_count": null,
      "outputs": [
        {
          "output_type": "stream",
          "name": "stdout",
          "text": [
            "Restaurant Chains Identified:\n",
            "Restaurant Name\n",
            "Cafe Coffee Day     83\n",
            "Domino's Pizza      79\n",
            "Subway              63\n",
            "Green Chick Chop    51\n",
            "McDonald's          48\n",
            "Keventers           34\n",
            "Pizza Hut           30\n",
            "Giani               29\n",
            "Baskin Robbins      28\n",
            "Barbeque Nation     26\n",
            "Name: count, dtype: int64\n"
          ]
        }
      ]
    },
    {
      "cell_type": "code",
      "source": [
        "# Filter the DataFrame to include only rows for restaurant chains\n",
        "chain_df = df[df['Restaurant Name'].isin(restaurant_chains)]\n",
        "\n",
        "# Calculate average ratings for each chain\n",
        "chain_ratings = chain_df.groupby('Restaurant Name')['Aggregate rating'].mean()\n",
        "\n",
        "# Calculate the total number of votes received by each chain\n",
        "chain_votes = chain_df.groupby('Restaurant Name')['Votes'].sum()\n",
        "\n",
        "# Combine the ratings and votes into a single DataFrame\n",
        "chain_stats = pd.DataFrame({'Average Rating': chain_ratings, 'Total Votes': chain_votes})\n",
        "\n",
        "# Sort the chains by average rating or total votes, as needed\n",
        "chain_stats = chain_stats.sort_values(by='Average Rating', ascending=False)\n",
        "# chain_stats = chain_stats.sort_values(by='Total Votes', ascending=False)\n",
        "\n",
        "# Print the statistics for restaurant chains\n",
        "print(\"Restaurant Chain Ratings and Popularity:\")\n",
        "print(chain_stats)\n"
      ],
      "metadata": {
        "colab": {
          "base_uri": "https://localhost:8080/"
        },
        "id": "m01nynKbVX1k",
        "outputId": "546d27c2-dc04-4cc5-aa2d-f8f0283d9ea0"
      },
      "execution_count": null,
      "outputs": [
        {
          "output_type": "stream",
          "name": "stdout",
          "text": [
            "Restaurant Chain Ratings and Popularity:\n",
            "Empty DataFrame\n",
            "Columns: [Average Rating, Total Votes]\n",
            "Index: []\n"
          ]
        }
      ]
    },
    {
      "cell_type": "code",
      "source": [],
      "metadata": {
        "id": "ks57G2vLVbKd"
      },
      "execution_count": null,
      "outputs": []
    }
  ],
  "metadata": {
    "colab": {
      "provenance": [],
      "include_colab_link": true
    },
    "kernelspec": {
      "display_name": "Python 3",
      "name": "python3"
    }
  },
  "nbformat": 4,
  "nbformat_minor": 0
}